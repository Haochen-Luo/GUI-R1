{
 "cells": [
  {
   "cell_type": "code",
   "execution_count": 1,
   "id": "34707cca",
   "metadata": {},
   "outputs": [
    {
     "name": "stdout",
     "output_type": "stream",
     "text": [
      "__Python VERSION: 3.11.11 (main, Dec 11 2024, 16:28:39) [GCC 11.2.0]\n",
      "__pyTorch VERSION: 2.6.0+cu124\n",
      "__CUDA VERSION\n",
      "__CUDNN VERSION: 90100\n",
      "__Number CUDA Devices: 8\n",
      "__Devices\n",
      "index, name, driver_version, memory.total [MiB], memory.used [MiB], memory.free [MiB]\n",
      "0, NVIDIA GeForce RTX 3090, 550.142, 24576 MiB, 2501 MiB, 21752 MiB\n",
      "1, NVIDIA GeForce RTX 3090, 550.142, 24576 MiB, 4 MiB, 24249 MiB\n",
      "2, NVIDIA GeForce RTX 3090, 550.142, 24576 MiB, 4 MiB, 24249 MiB\n",
      "3, NVIDIA GeForce RTX 3090, 550.142, 24576 MiB, 4 MiB, 24249 MiB\n",
      "4, NVIDIA GeForce RTX 3090, 550.142, 24576 MiB, 4 MiB, 24249 MiB\n",
      "5, NVIDIA GeForce RTX 3090, 550.142, 24576 MiB, 4 MiB, 24249 MiB\n",
      "6, NVIDIA GeForce RTX 3090, 550.142, 24576 MiB, 4 MiB, 24249 MiB\n",
      "7, NVIDIA GeForce RTX 3090, 550.142, 24576 MiB, 4 MiB, 24249 MiB\n",
      "Active CUDA Device: GPU 0\n",
      "Available devices  8\n",
      "Current cuda device  0\n"
     ]
    }
   ],
   "source": [
    "# 在 main.py 中测试\n",
    "import torch\n",
    "import sys\n",
    "print('__Python VERSION:', sys.version)\n",
    "print('__pyTorch VERSION:', torch.__version__)\n",
    "print('__CUDA VERSION')\n",
    "from subprocess import call\n",
    "print('__CUDNN VERSION:', torch.backends.cudnn.version())\n",
    "print('__Number CUDA Devices:', torch.cuda.device_count())\n",
    "print('__Devices')\n",
    "call([\"nvidia-smi\", \"--format=csv\", \"--query-gpu=index,name,driver_version,memory.total,memory.used,memory.free\"])\n",
    "print('Active CUDA Device: GPU', torch.cuda.current_device())\n",
    "\n",
    "print ('Available devices ', torch.cuda.device_count())\n",
    "print ('Current cuda device ', torch.cuda.current_device())\n"
   ]
  },
  {
   "cell_type": "code",
   "execution_count": null,
   "id": "1c4ee8e6",
   "metadata": {},
   "outputs": [],
   "source": []
  },
  {
   "cell_type": "code",
   "execution_count": 2,
   "id": "4fb08532",
   "metadata": {},
   "outputs": [
    {
     "name": "stdout",
     "output_type": "stream",
     "text": [
      "<nvidia.CudaDriver object at 0x7f9643515650>\n"
     ]
    }
   ],
   "source": [
    "import triton\n",
    "import triton.runtime\n",
    "\n",
    "print(triton.runtime.driver.active)"
   ]
  },
  {
   "cell_type": "code",
   "execution_count": 3,
   "id": "fde2b0e3",
   "metadata": {},
   "outputs": [
    {
     "name": "stdout",
     "output_type": "stream",
     "text": [
      "8\n",
      "NVIDIA GeForce RTX 3090\n"
     ]
    }
   ],
   "source": [
    "import torch\n",
    "print(torch.cuda.device_count())\n",
    "print(torch.cuda.get_device_name(0))  # 显示第一张卡的型号"
   ]
  },
  {
   "cell_type": "code",
   "execution_count": 4,
   "id": "45f34880",
   "metadata": {},
   "outputs": [
    {
     "name": "stdout",
     "output_type": "stream",
     "text": [
      "Triton kernel ran successfully. Output sum: 5.831356048583984\n"
     ]
    }
   ],
   "source": [
    "import triton\n",
    "import triton.language as tl\n",
    "import torch\n",
    "\n",
    "@triton.jit\n",
    "def add_kernel(x_ptr, y_ptr, output_ptr, n, BLOCK_SIZE: tl.constexpr):\n",
    "    pid = tl.program_id(axis=0)\n",
    "    block_start = pid * BLOCK_SIZE\n",
    "    offsets = block_start + tl.arange(0, BLOCK_SIZE)\n",
    "    mask = offsets < n\n",
    "    x = tl.load(x_ptr + offsets, mask=mask)\n",
    "    y = tl.load(y_ptr + offsets, mask=mask)\n",
    "    tl.store(output_ptr + offsets, x + y, mask=mask)\n",
    "\n",
    "# 测试用例\n",
    "n = 1024\n",
    "x = torch.randn(n, device='cuda')\n",
    "y = torch.randn(n, device='cuda')\n",
    "output = torch.empty_like(x)\n",
    "\n",
    "add_kernel[(n // 128,)](x, y, output, n, BLOCK_SIZE=128)\n",
    "print(\"Triton kernel ran successfully. Output sum:\", output.sum().item())"
   ]
  }
 ],
 "metadata": {
  "kernelspec": {
   "display_name": "gui",
   "language": "python",
   "name": "python3"
  },
  "language_info": {
   "codemirror_mode": {
    "name": "ipython",
    "version": 3
   },
   "file_extension": ".py",
   "mimetype": "text/x-python",
   "name": "python",
   "nbconvert_exporter": "python",
   "pygments_lexer": "ipython3",
   "version": "3.11.11"
  }
 },
 "nbformat": 4,
 "nbformat_minor": 5
}
